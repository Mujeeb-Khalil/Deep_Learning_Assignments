{
 "cells": [
  {
   "cell_type": "markdown",
   "metadata": {},
   "source": [
    "# Credit Card Fraud Detection::\n",
    "Download dataset from this link:\n",
    "\n",
    "https://www.kaggle.com/mlg-ulb/creditcardfraud\n",
    "\n",
    "Description about dataset::\n",
    "The datasets contains transactions made by credit cards in September 2013 by european cardholders. This dataset presents transactions that occurred in two days, where we have 492 frauds out of 284,807 transactions. The dataset is highly unbalanced, the positive class (frauds) account for 0.172% of all transactions.\n",
    "\n",
    "It contains only numerical input variables which are the result of a PCA transformation. Unfortunately, due to confidentiality issues, we cannot provide the original features and more background information about the data. Features V1, V2, … V28 are the principal components obtained with PCA, the only features which have not been transformed with PCA are 'Time' and 'Amount'. Feature 'Time' contains the seconds elapsed between each transaction and the first transaction in the dataset. The feature 'Amount' is the transaction Amount, this feature can be used for example-dependant cost-senstive learning.\n",
    "\n",
    "Feature 'Class' is the response variable and it takes value 1 in case of fraud and 0 otherwise"
   ]
  },
  {
   "cell_type": "markdown",
   "metadata": {},
   "source": [
    "## WORKFLOW :\n",
    "1.Load Data\n",
    "\n",
    "2.Check Missing Values ( If Exist ; Fill each record with mean of its feature )\n",
    "\n",
    "3.Standardized the Input Variables.\n",
    "\n",
    "4.Split into 50% Training(Samples,Labels) , 30% Test(Samples,Labels) and 20% Validation Data(Samples,Labels).\n",
    "\n",
    "5.Model : input Layer (No. of features ), 3 hidden layers including 10,8,6 unit & Output Layer with activation function relu/tanh (check by experiment).\n",
    "\n",
    "6.Compilation Step (Note : Its a Binary problem , select loss , metrics according to it)\n",
    "\n",
    "7.Train the Model with Epochs (100).\n",
    "\n",
    "8.If the model gets overfit tune your model by changing the units , No. of layers , epochs , add dropout layer or add Regularizer according to the need .\n",
    "\n",
    "9.Prediction should be > 92% 10.Evaluation Step 11Prediction"
   ]
  },
  {
   "cell_type": "code",
   "execution_count": 194,
   "metadata": {},
   "outputs": [],
   "source": [
    "import tensorflow as tf\n",
    "import pandas as pd\n",
    "import numpy as np\n",
    "from tensorflow.keras.models import Sequential\n",
    "from tensorflow.keras import layers\n",
    "from tensorflow.keras.utils import to_categorical"
   ]
  },
  {
   "cell_type": "code",
   "execution_count": 196,
   "metadata": {},
   "outputs": [],
   "source": [
    "data = pd.read_csv(\"creditcard.csv\")"
   ]
  },
  {
   "cell_type": "code",
   "execution_count": 197,
   "metadata": {},
   "outputs": [
    {
     "data": {
      "text/plain": [
       "Time      0\n",
       "V1        0\n",
       "V2        0\n",
       "V3        0\n",
       "V4        0\n",
       "V5        0\n",
       "V6        0\n",
       "V7        0\n",
       "V8        0\n",
       "V9        0\n",
       "V10       0\n",
       "V11       0\n",
       "V12       0\n",
       "V13       0\n",
       "V14       0\n",
       "V15       0\n",
       "V16       0\n",
       "V17       0\n",
       "V18       0\n",
       "V19       0\n",
       "V20       0\n",
       "V21       0\n",
       "V22       0\n",
       "V23       0\n",
       "V24       0\n",
       "V25       0\n",
       "V26       0\n",
       "V27       0\n",
       "V28       0\n",
       "Amount    0\n",
       "Class     0\n",
       "dtype: int64"
      ]
     },
     "execution_count": 197,
     "metadata": {},
     "output_type": "execute_result"
    }
   ],
   "source": [
    "data.isnull().sum()"
   ]
  },
  {
   "cell_type": "code",
   "execution_count": 198,
   "metadata": {},
   "outputs": [],
   "source": [
    "Input = data.drop(\"Class\",axis = 1)\n",
    "Output = data[[\"Class\"]]\n",
    "Output = to_categorical(Output)\n"
   ]
  },
  {
   "cell_type": "code",
   "execution_count": null,
   "metadata": {},
   "outputs": [],
   "source": []
  },
  {
   "cell_type": "code",
   "execution_count": 199,
   "metadata": {},
   "outputs": [],
   "source": [
    "X_train = Input.iloc[:142403,:]\n",
    "Y_train = Output[:142403,:]\n",
    "X_test = Input.iloc[142403:227845,:]\n",
    "Y_test = Output[142403:227845,:]\n",
    "X_val = Input.iloc[227845:,:]\n",
    "Y_val = Output[227845:,:]"
   ]
  },
  {
   "cell_type": "code",
   "execution_count": 205,
   "metadata": {},
   "outputs": [],
   "source": [
    "def normalize(x):\n",
    "    mean = x.mean(axis = 0)\n",
    "    std = x.mean(axis = 0)\n",
    "    x-=mean\n",
    "    x/=std\n",
    "normalize(X_train)\n",
    "normalize(X_test)\n",
    "normalize(X_val)"
   ]
  },
  {
   "cell_type": "code",
   "execution_count": 206,
   "metadata": {},
   "outputs": [],
   "source": [
    "model = Sequential()\n",
    "model.add(layers.Dense(10,activation = \"relu\",input_shape = (Input.shape[1],)))\n",
    "model.add(layers.Dense(8,activation = \"relu\"))\n",
    "model.add(layers.Dense(6,activation = \"relu\"))\n",
    "model.add(layers.Dense(2,activation = \"sigmoid\"))"
   ]
  },
  {
   "cell_type": "code",
   "execution_count": 207,
   "metadata": {},
   "outputs": [],
   "source": [
    "model.compile(optimizer = \"rmsprop\", loss = \"binary_crossentropy\", metrics = [\"accuracy\"])"
   ]
  },
  {
   "cell_type": "code",
   "execution_count": 208,
   "metadata": {},
   "outputs": [
    {
     "name": "stdout",
     "output_type": "stream",
     "text": [
      "Epoch 1/10\n",
      "1113/1113 [==============================] - 2s 1ms/step - loss: 0.2124 - accuracy: 0.9944 - val_loss: 0.2046 - val_accuracy: 0.9953\n",
      "Epoch 2/10\n",
      "1113/1113 [==============================] - 1s 1ms/step - loss: 0.0206 - accuracy: 0.9988 - val_loss: 0.2922 - val_accuracy: 0.9879\n",
      "Epoch 3/10\n",
      "1113/1113 [==============================] - 1s 1ms/step - loss: 0.0168 - accuracy: 0.9990 - val_loss: 0.2861 - val_accuracy: 0.9930\n",
      "Epoch 4/10\n",
      "1113/1113 [==============================] - 1s 1ms/step - loss: 0.0152 - accuracy: 0.9990 - val_loss: 0.3516 - val_accuracy: 0.9729\n",
      "Epoch 5/10\n",
      "1113/1113 [==============================] - 1s 1ms/step - loss: 0.0217 - accuracy: 0.9989 - val_loss: 0.2741 - val_accuracy: 0.9765\n",
      "Epoch 6/10\n",
      "1113/1113 [==============================] - 1s 1ms/step - loss: 0.0123 - accuracy: 0.9991 - val_loss: 0.2528 - val_accuracy: 0.9943\n",
      "Epoch 7/10\n",
      "1113/1113 [==============================] - 1s 1ms/step - loss: 0.0179 - accuracy: 0.9993 - val_loss: 0.2460 - val_accuracy: 0.9932\n",
      "Epoch 8/10\n",
      "1113/1113 [==============================] - 1s 1ms/step - loss: 0.0101 - accuracy: 0.9993 - val_loss: 0.2242 - val_accuracy: 0.9931\n",
      "Epoch 9/10\n",
      "1113/1113 [==============================] - 1s 1ms/step - loss: 0.0104 - accuracy: 0.9993 - val_loss: 0.2095 - val_accuracy: 0.9932\n",
      "Epoch 10/10\n",
      "1113/1113 [==============================] - 1s 1ms/step - loss: 0.0134 - accuracy: 0.9991 - val_loss: 0.2240 - val_accuracy: 0.9926\n"
     ]
    },
    {
     "data": {
      "text/plain": [
       "<tensorflow.python.keras.callbacks.History at 0x24807311d30>"
      ]
     },
     "execution_count": 208,
     "metadata": {},
     "output_type": "execute_result"
    }
   ],
   "source": [
    "model.fit(X_train,Y_train,epochs = 10,batch_size = 128,validation_data = (X_val,Y_val))"
   ]
  },
  {
   "cell_type": "code",
   "execution_count": 209,
   "metadata": {},
   "outputs": [
    {
     "name": "stdout",
     "output_type": "stream",
     "text": [
      "2671/2671 [==============================] - 2s 670us/step - loss: 0.3843 - accuracy: 0.9962\n"
     ]
    },
    {
     "data": {
      "text/plain": [
       "[0.38426414132118225, 0.9961728453636169]"
      ]
     },
     "execution_count": 209,
     "metadata": {},
     "output_type": "execute_result"
    }
   ],
   "source": [
    "model.evaluate(X_test,Y_test)"
   ]
  },
  {
   "cell_type": "code",
   "execution_count": 210,
   "metadata": {},
   "outputs": [
    {
     "data": {
      "text/plain": [
       "array([[1.0000000e+00, 5.2162310e-23],\n",
       "       [1.0000000e+00, 6.3548350e-16],\n",
       "       [1.0000000e+00, 0.0000000e+00],\n",
       "       ...,\n",
       "       [1.0000000e+00, 3.2513631e-28],\n",
       "       [9.8832893e-01, 2.3627400e-02],\n",
       "       [1.0000000e+00, 9.7892723e-17]], dtype=float32)"
      ]
     },
     "execution_count": 210,
     "metadata": {},
     "output_type": "execute_result"
    }
   ],
   "source": [
    "model.predict(X_test)"
   ]
  },
  {
   "cell_type": "code",
   "execution_count": null,
   "metadata": {},
   "outputs": [],
   "source": []
  },
  {
   "cell_type": "code",
   "execution_count": null,
   "metadata": {},
   "outputs": [],
   "source": []
  }
 ],
 "metadata": {
  "kernelspec": {
   "display_name": "Python 3",
   "language": "python",
   "name": "python3"
  },
  "language_info": {
   "codemirror_mode": {
    "name": "ipython",
    "version": 3
   },
   "file_extension": ".py",
   "mimetype": "text/x-python",
   "name": "python",
   "nbconvert_exporter": "python",
   "pygments_lexer": "ipython3",
   "version": "3.8.3"
  }
 },
 "nbformat": 4,
 "nbformat_minor": 4
}
