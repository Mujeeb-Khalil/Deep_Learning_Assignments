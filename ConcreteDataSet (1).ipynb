{
  "nbformat": 4,
  "nbformat_minor": 0,
  "metadata": {
    "colab": {
      "name": "ConcreteDataSet.ipynb",
      "provenance": [],
      "toc_visible": true
    },
    "kernelspec": {
      "name": "python3",
      "display_name": "Python 3"
    }
  },
  "cells": [
    {
      "cell_type": "code",
      "metadata": {
        "id": "Zlmo5xwXoKaQ"
      },
      "source": [
        "import numpy as np\n",
        "import pandas as pd\n",
        "import tensorflow as tf\n",
        "from keras.models import Sequential\n",
        "from keras import layers\n",
        "from keras.optimizers import Adam, SGD"
      ],
      "execution_count": 107,
      "outputs": []
    },
    {
      "cell_type": "markdown",
      "metadata": {
        "id": "gPGUjMraEGds"
      },
      "source": [
        "## Load Data"
      ]
    },
    {
      "cell_type": "code",
      "metadata": {
        "id": "ltSm58N2oMfx",
        "colab": {
          "base_uri": "https://localhost:8080/",
          "height": 255
        },
        "outputId": "ab92fdcc-b21d-4a0d-b3b6-d37db69d89cf"
      },
      "source": [
        "data = pd.read_csv(\"compresive_strength_concrete.csv\")\n",
        "data.head()"
      ],
      "execution_count": 108,
      "outputs": [
        {
          "output_type": "execute_result",
          "data": {
            "text/html": [
              "<div>\n",
              "<style scoped>\n",
              "    .dataframe tbody tr th:only-of-type {\n",
              "        vertical-align: middle;\n",
              "    }\n",
              "\n",
              "    .dataframe tbody tr th {\n",
              "        vertical-align: top;\n",
              "    }\n",
              "\n",
              "    .dataframe thead th {\n",
              "        text-align: right;\n",
              "    }\n",
              "</style>\n",
              "<table border=\"1\" class=\"dataframe\">\n",
              "  <thead>\n",
              "    <tr style=\"text-align: right;\">\n",
              "      <th></th>\n",
              "      <th>Cement (component 1)(kg in a m^3 mixture)</th>\n",
              "      <th>Blast Furnace Slag (component 2)(kg in a m^3 mixture)</th>\n",
              "      <th>Fly Ash (component 3)(kg in a m^3 mixture)</th>\n",
              "      <th>Water  (component 4)(kg in a m^3 mixture)</th>\n",
              "      <th>Superplasticizer (component 5)(kg in a m^3 mixture)</th>\n",
              "      <th>Coarse Aggregate  (component 6)(kg in a m^3 mixture)</th>\n",
              "      <th>Fine Aggregate (component 7)(kg in a m^3 mixture)</th>\n",
              "      <th>Age (day)</th>\n",
              "      <th>Concrete compressive strength(MPa, megapascals)</th>\n",
              "    </tr>\n",
              "  </thead>\n",
              "  <tbody>\n",
              "    <tr>\n",
              "      <th>0</th>\n",
              "      <td>540.0</td>\n",
              "      <td>0.0</td>\n",
              "      <td>0.0</td>\n",
              "      <td>162.0</td>\n",
              "      <td>2.5</td>\n",
              "      <td>1040.0</td>\n",
              "      <td>676.0</td>\n",
              "      <td>28</td>\n",
              "      <td>79.99</td>\n",
              "    </tr>\n",
              "    <tr>\n",
              "      <th>1</th>\n",
              "      <td>540.0</td>\n",
              "      <td>0.0</td>\n",
              "      <td>0.0</td>\n",
              "      <td>162.0</td>\n",
              "      <td>2.5</td>\n",
              "      <td>1055.0</td>\n",
              "      <td>676.0</td>\n",
              "      <td>28</td>\n",
              "      <td>61.89</td>\n",
              "    </tr>\n",
              "    <tr>\n",
              "      <th>2</th>\n",
              "      <td>332.5</td>\n",
              "      <td>142.5</td>\n",
              "      <td>0.0</td>\n",
              "      <td>228.0</td>\n",
              "      <td>0.0</td>\n",
              "      <td>932.0</td>\n",
              "      <td>594.0</td>\n",
              "      <td>270</td>\n",
              "      <td>40.27</td>\n",
              "    </tr>\n",
              "    <tr>\n",
              "      <th>3</th>\n",
              "      <td>332.5</td>\n",
              "      <td>142.5</td>\n",
              "      <td>0.0</td>\n",
              "      <td>228.0</td>\n",
              "      <td>0.0</td>\n",
              "      <td>932.0</td>\n",
              "      <td>594.0</td>\n",
              "      <td>365</td>\n",
              "      <td>41.05</td>\n",
              "    </tr>\n",
              "    <tr>\n",
              "      <th>4</th>\n",
              "      <td>198.6</td>\n",
              "      <td>132.4</td>\n",
              "      <td>0.0</td>\n",
              "      <td>192.0</td>\n",
              "      <td>0.0</td>\n",
              "      <td>978.4</td>\n",
              "      <td>825.5</td>\n",
              "      <td>360</td>\n",
              "      <td>44.30</td>\n",
              "    </tr>\n",
              "  </tbody>\n",
              "</table>\n",
              "</div>"
            ],
            "text/plain": [
              "   Cement (component 1)(kg in a m^3 mixture)  ...  Concrete compressive strength(MPa, megapascals) \n",
              "0                                      540.0  ...                                             79.99\n",
              "1                                      540.0  ...                                             61.89\n",
              "2                                      332.5  ...                                             40.27\n",
              "3                                      332.5  ...                                             41.05\n",
              "4                                      198.6  ...                                             44.30\n",
              "\n",
              "[5 rows x 9 columns]"
            ]
          },
          "metadata": {
            "tags": []
          },
          "execution_count": 108
        }
      ]
    },
    {
      "cell_type": "markdown",
      "metadata": {
        "id": "Y065fZ-4ENjE"
      },
      "source": [
        "## Check Missing Values ( If Exist ; Fill each record with mean of its feature )"
      ]
    },
    {
      "cell_type": "code",
      "metadata": {
        "colab": {
          "base_uri": "https://localhost:8080/"
        },
        "id": "VcgIjejjogKw",
        "outputId": "c3141969-27ec-4f98-d788-19b7c602833a"
      },
      "source": [
        "data.isnull().sum()"
      ],
      "execution_count": 109,
      "outputs": [
        {
          "output_type": "execute_result",
          "data": {
            "text/plain": [
              "Cement (component 1)(kg in a m^3 mixture)                0\n",
              "Blast Furnace Slag (component 2)(kg in a m^3 mixture)    0\n",
              "Fly Ash (component 3)(kg in a m^3 mixture)               0\n",
              "Water  (component 4)(kg in a m^3 mixture)                0\n",
              "Superplasticizer (component 5)(kg in a m^3 mixture)      0\n",
              "Coarse Aggregate  (component 6)(kg in a m^3 mixture)     0\n",
              "Fine Aggregate (component 7)(kg in a m^3 mixture)        0\n",
              "Age (day)                                                0\n",
              "Concrete compressive strength(MPa, megapascals)          0\n",
              "dtype: int64"
            ]
          },
          "metadata": {
            "tags": []
          },
          "execution_count": 109
        }
      ]
    },
    {
      "cell_type": "markdown",
      "metadata": {
        "id": "Xzp7IXl_DSGS"
      },
      "source": [
        "Separating the Input and Output varaible"
      ]
    },
    {
      "cell_type": "code",
      "metadata": {
        "id": "JyQE4qrnDSXg"
      },
      "source": [
        "Input = data.iloc[:,:-1]\n",
        "Output = data.iloc[:,-1]"
      ],
      "execution_count": 110,
      "outputs": []
    },
    {
      "cell_type": "markdown",
      "metadata": {
        "id": "ee_Nk6lwEf6g"
      },
      "source": [
        "Split into 50% Training(Samples,Labels) , 30% Test(Samples,Labels) and 20% Validation Data(Samples,Labels)"
      ]
    },
    {
      "cell_type": "code",
      "metadata": {
        "id": "fbLhmPjCaU9K"
      },
      "source": [
        "X_train = Input.iloc[:515,:]\n",
        "Y_train = Output.iloc[:515,]\n",
        "X_test = Input.iloc[515:824,:]\n",
        "Y_test = Output.iloc[515:824,]\n",
        "X_val = Input.iloc[824:,:]\n",
        "Y_val = Output.iloc[824:,]"
      ],
      "execution_count": 111,
      "outputs": []
    },
    {
      "cell_type": "markdown",
      "metadata": {
        "id": "ER-wegoHDuYC"
      },
      "source": [
        "### Standardized the Input Variables. Hint: Centeralized the data\n",
        "---\n",
        "\n"
      ]
    },
    {
      "cell_type": "code",
      "metadata": {
        "id": "wCWsWGiRDyks"
      },
      "source": [
        "def normalize(x):\n",
        "  mean_x = x.mean(axis = 0)\n",
        "  std_x = x.std(axis = 0)\n",
        "  x -=mean_x\n",
        "  x/=std_x\n",
        "\n",
        "\n",
        "normalize(X_train)\n",
        "normalize(X_test)\n",
        "normalize(X_val)\n",
        "normalize(Y_train)\n",
        "normalize(Y_test)\n",
        "normalize(Y_val)"
      ],
      "execution_count": 112,
      "outputs": []
    },
    {
      "cell_type": "markdown",
      "metadata": {
        "id": "MhE9eo39E-Wq"
      },
      "source": [
        "Model : input Layer (No. of features ), 3 hidden layers including 10,8,6 unit & Output Layer with activation function relu/tanh (check by experiment)"
      ]
    },
    {
      "cell_type": "code",
      "metadata": {
        "id": "_vD0oX9nUb1q"
      },
      "source": [
        "model = Sequential()\n",
        "model.add(layers.Dense(10,activation = \"relu\",input_shape = (X_train.shape[1],)))\n",
        "model.add(layers.Dense(8,activation = \"relu\"))\n",
        "model.add(layers.Dense(6,activation = \"relu\"))\n",
        "model.add(layers.Dense(1,activation = \"relu\"))"
      ],
      "execution_count": 113,
      "outputs": []
    },
    {
      "cell_type": "markdown",
      "metadata": {
        "id": "KL4qhVesHWC_"
      },
      "source": [
        "### Compilation Step (Note : Its a Regression problem , select loss , metrics according to it)"
      ]
    },
    {
      "cell_type": "code",
      "metadata": {
        "id": "-NGMdAUsU2lQ"
      },
      "source": [
        "model.compile(optimizer= \"rmsprop\",loss = \"mse\", metrics = [\"mae\"])"
      ],
      "execution_count": 114,
      "outputs": []
    },
    {
      "cell_type": "markdown",
      "metadata": {
        "id": "Zjk4sMJ0HYc4"
      },
      "source": [
        "Train the Model with Epochs (100) and validate it"
      ]
    },
    {
      "cell_type": "code",
      "metadata": {
        "colab": {
          "base_uri": "https://localhost:8080/"
        },
        "id": "A3brFQeaWIB7",
        "outputId": "7d9557b5-c19e-48af-88d7-73e29f12d097"
      },
      "source": [
        "model.fit(X_train,Y_train,epochs = 40,batch_size = 128,validation_data = (X_val,Y_val))"
      ],
      "execution_count": 115,
      "outputs": [
        {
          "output_type": "stream",
          "text": [
            "Epoch 1/40\n",
            "5/5 [==============================] - 1s 49ms/step - loss: 0.9432 - mae: 0.7840 - val_loss: 0.9604 - val_mae: 0.7624\n",
            "Epoch 2/40\n",
            "5/5 [==============================] - 0s 12ms/step - loss: 0.8941 - mae: 0.7683 - val_loss: 0.9482 - val_mae: 0.7589\n",
            "Epoch 3/40\n",
            "5/5 [==============================] - 0s 12ms/step - loss: 0.8873 - mae: 0.7634 - val_loss: 0.9446 - val_mae: 0.7589\n",
            "Epoch 4/40\n",
            "5/5 [==============================] - 0s 13ms/step - loss: 0.8402 - mae: 0.7431 - val_loss: 0.9310 - val_mae: 0.7539\n",
            "Epoch 5/40\n",
            "5/5 [==============================] - 0s 12ms/step - loss: 0.8664 - mae: 0.7547 - val_loss: 0.9247 - val_mae: 0.7521\n",
            "Epoch 6/40\n",
            "5/5 [==============================] - 0s 12ms/step - loss: 0.8944 - mae: 0.7743 - val_loss: 0.9224 - val_mae: 0.7514\n",
            "Epoch 7/40\n",
            "5/5 [==============================] - 0s 12ms/step - loss: 0.8342 - mae: 0.7412 - val_loss: 0.9117 - val_mae: 0.7472\n",
            "Epoch 8/40\n",
            "5/5 [==============================] - 0s 12ms/step - loss: 0.8532 - mae: 0.7489 - val_loss: 0.9023 - val_mae: 0.7435\n",
            "Epoch 9/40\n",
            "5/5 [==============================] - 0s 13ms/step - loss: 0.8241 - mae: 0.7393 - val_loss: 0.8989 - val_mae: 0.7424\n",
            "Epoch 10/40\n",
            "5/5 [==============================] - 0s 13ms/step - loss: 0.8622 - mae: 0.7503 - val_loss: 0.8944 - val_mae: 0.7407\n",
            "Epoch 11/40\n",
            "5/5 [==============================] - 0s 13ms/step - loss: 0.8100 - mae: 0.7272 - val_loss: 0.8878 - val_mae: 0.7382\n",
            "Epoch 12/40\n",
            "5/5 [==============================] - 0s 12ms/step - loss: 0.8442 - mae: 0.7500 - val_loss: 0.8860 - val_mae: 0.7379\n",
            "Epoch 13/40\n",
            "5/5 [==============================] - 0s 12ms/step - loss: 0.8404 - mae: 0.7485 - val_loss: 0.8839 - val_mae: 0.7373\n",
            "Epoch 14/40\n",
            "5/5 [==============================] - 0s 12ms/step - loss: 0.8436 - mae: 0.7390 - val_loss: 0.8772 - val_mae: 0.7350\n",
            "Epoch 15/40\n",
            "5/5 [==============================] - 0s 12ms/step - loss: 0.8254 - mae: 0.7321 - val_loss: 0.8653 - val_mae: 0.7299\n",
            "Epoch 16/40\n",
            "5/5 [==============================] - 0s 12ms/step - loss: 0.7848 - mae: 0.7139 - val_loss: 0.8634 - val_mae: 0.7292\n",
            "Epoch 17/40\n",
            "5/5 [==============================] - 0s 57ms/step - loss: 0.8168 - mae: 0.7330 - val_loss: 0.8581 - val_mae: 0.7272\n",
            "Epoch 18/40\n",
            "5/5 [==============================] - 0s 12ms/step - loss: 0.8340 - mae: 0.7423 - val_loss: 0.8531 - val_mae: 0.7252\n",
            "Epoch 19/40\n",
            "5/5 [==============================] - 0s 14ms/step - loss: 0.8196 - mae: 0.7347 - val_loss: 0.8479 - val_mae: 0.7229\n",
            "Epoch 20/40\n",
            "5/5 [==============================] - 0s 13ms/step - loss: 0.7697 - mae: 0.7098 - val_loss: 0.8412 - val_mae: 0.7196\n",
            "Epoch 21/40\n",
            "5/5 [==============================] - 0s 13ms/step - loss: 0.8156 - mae: 0.7269 - val_loss: 0.8401 - val_mae: 0.7193\n",
            "Epoch 22/40\n",
            "5/5 [==============================] - 0s 12ms/step - loss: 0.7764 - mae: 0.7133 - val_loss: 0.8340 - val_mae: 0.7169\n",
            "Epoch 23/40\n",
            "5/5 [==============================] - 0s 14ms/step - loss: 0.7839 - mae: 0.7145 - val_loss: 0.8276 - val_mae: 0.7143\n",
            "Epoch 24/40\n",
            "5/5 [==============================] - 0s 13ms/step - loss: 0.7622 - mae: 0.7015 - val_loss: 0.8238 - val_mae: 0.7132\n",
            "Epoch 25/40\n",
            "5/5 [==============================] - 0s 12ms/step - loss: 0.7703 - mae: 0.7100 - val_loss: 0.8150 - val_mae: 0.7094\n",
            "Epoch 26/40\n",
            "5/5 [==============================] - 0s 12ms/step - loss: 0.7685 - mae: 0.7048 - val_loss: 0.8088 - val_mae: 0.7078\n",
            "Epoch 27/40\n",
            "5/5 [==============================] - 0s 12ms/step - loss: 0.7595 - mae: 0.7022 - val_loss: 0.7987 - val_mae: 0.7021\n",
            "Epoch 28/40\n",
            "5/5 [==============================] - 0s 12ms/step - loss: 0.7445 - mae: 0.6947 - val_loss: 0.7967 - val_mae: 0.7020\n",
            "Epoch 29/40\n",
            "5/5 [==============================] - 0s 12ms/step - loss: 0.7639 - mae: 0.7093 - val_loss: 0.7952 - val_mae: 0.7021\n",
            "Epoch 30/40\n",
            "5/5 [==============================] - 0s 13ms/step - loss: 0.7367 - mae: 0.6932 - val_loss: 0.7936 - val_mae: 0.7015\n",
            "Epoch 31/40\n",
            "5/5 [==============================] - 0s 12ms/step - loss: 0.7433 - mae: 0.6957 - val_loss: 0.7905 - val_mae: 0.6995\n",
            "Epoch 32/40\n",
            "5/5 [==============================] - 0s 12ms/step - loss: 0.7287 - mae: 0.6881 - val_loss: 0.7907 - val_mae: 0.7012\n",
            "Epoch 33/40\n",
            "5/5 [==============================] - 0s 12ms/step - loss: 0.7077 - mae: 0.6753 - val_loss: 0.7933 - val_mae: 0.7015\n",
            "Epoch 34/40\n",
            "5/5 [==============================] - 0s 13ms/step - loss: 0.7233 - mae: 0.6816 - val_loss: 0.7884 - val_mae: 0.6986\n",
            "Epoch 35/40\n",
            "5/5 [==============================] - 0s 12ms/step - loss: 0.7504 - mae: 0.6921 - val_loss: 0.7883 - val_mae: 0.6987\n",
            "Epoch 36/40\n",
            "5/5 [==============================] - 0s 13ms/step - loss: 0.7480 - mae: 0.6911 - val_loss: 0.7851 - val_mae: 0.6953\n",
            "Epoch 37/40\n",
            "5/5 [==============================] - 0s 14ms/step - loss: 0.7137 - mae: 0.6825 - val_loss: 0.7877 - val_mae: 0.6950\n",
            "Epoch 38/40\n",
            "5/5 [==============================] - 0s 14ms/step - loss: 0.7245 - mae: 0.6866 - val_loss: 0.7889 - val_mae: 0.6956\n",
            "Epoch 39/40\n",
            "5/5 [==============================] - 0s 13ms/step - loss: 0.7193 - mae: 0.6818 - val_loss: 0.7906 - val_mae: 0.6951\n",
            "Epoch 40/40\n",
            "5/5 [==============================] - 0s 14ms/step - loss: 0.7149 - mae: 0.6791 - val_loss: 0.7903 - val_mae: 0.6954\n"
          ],
          "name": "stdout"
        },
        {
          "output_type": "execute_result",
          "data": {
            "text/plain": [
              "<tensorflow.python.keras.callbacks.History at 0x7f57d733cf50>"
            ]
          },
          "metadata": {
            "tags": []
          },
          "execution_count": 115
        }
      ]
    },
    {
      "cell_type": "markdown",
      "metadata": {
        "id": "nU7dgTpLHhfk"
      },
      "source": [
        "### Evaluation Step"
      ]
    },
    {
      "cell_type": "code",
      "metadata": {
        "colab": {
          "base_uri": "https://localhost:8080/"
        },
        "id": "ni8wQHqVG-kt",
        "outputId": "ecfaa0bb-6ed8-4a87-a100-e5d030fd416d"
      },
      "source": [
        "model.evaluate(X_test,Y_test)"
      ],
      "execution_count": 116,
      "outputs": [
        {
          "output_type": "stream",
          "text": [
            "10/10 [==============================] - 0s 1ms/step - loss: 0.6830 - mae: 0.6884\n"
          ],
          "name": "stdout"
        },
        {
          "output_type": "execute_result",
          "data": {
            "text/plain": [
              "[0.6829845905303955, 0.6884136199951172]"
            ]
          },
          "metadata": {
            "tags": []
          },
          "execution_count": 116
        }
      ]
    },
    {
      "cell_type": "code",
      "metadata": {
        "id": "fccgRNk-PR7E"
      },
      "source": [
        ""
      ],
      "execution_count": null,
      "outputs": []
    }
  ]
}